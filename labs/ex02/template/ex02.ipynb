{
 "cells": [
  {
   "cell_type": "code",
   "execution_count": 3,
   "metadata": {},
   "outputs": [],
   "source": [
    "# Useful starting lines\n",
    "%matplotlib inline\n",
    "import numpy as np\n",
    "import matplotlib.pyplot as plt\n",
    "%load_ext autoreload\n",
    "%autoreload 2"
   ]
  },
  {
   "cell_type": "markdown",
   "metadata": {},
   "source": [
    "# Load the data"
   ]
  },
  {
   "cell_type": "code",
   "execution_count": 6,
   "metadata": {},
   "outputs": [],
   "source": [
    "import datetime\n",
    "from helpers import *\n",
    "\n",
    "height, weight, gender = load_data(sub_sample=False, add_outlier=False)\n",
    "x, mean_x, std_x = standardize(height)\n",
    "y, tx = build_model_data(x, weight)"
   ]
  },
  {
   "cell_type": "code",
   "execution_count": 9,
   "metadata": {},
   "outputs": [
    {
     "data": {
      "text/plain": [
       "((10000,), (10000, 2))"
      ]
     },
     "execution_count": 9,
     "metadata": {},
     "output_type": "execute_result"
    }
   ],
   "source": [
    "y.shape, tx.shape"
   ]
  },
  {
   "cell_type": "markdown",
   "metadata": {},
   "source": [
    "# 1 Computing the Cost Function"
   ]
  },
  {
   "cell_type": "markdown",
   "metadata": {},
   "source": [
    "Fill in the `compute_loss` function below:\n",
    "<a id='compute_loss'></a>\n"
   ]
  },
  {
   "cell_type": "code",
   "execution_count": 4,
   "metadata": {},
   "outputs": [],
   "source": [
    "def compute_loss(y, tx, w):\n",
    "    \"\"\"Calculate the loss.\n",
    "\n",
    "    You can calculate the loss using mse or mae.\n",
    "    \"\"\"\n",
    "    e = y[:,np.newaxis] - tx @ w[:,np.newaxis]\n",
    "    loss = sum(abs(e)) / tx.shape[0]\n",
    "    return loss.item()"
   ]
  },
  {
   "cell_type": "markdown",
   "metadata": {},
   "source": [
    "# 2 Grid Search\n",
    "\n",
    "Fill in the function `grid_search()` below:"
   ]
  },
  {
   "cell_type": "code",
   "execution_count": 17,
   "metadata": {},
   "outputs": [],
   "source": [
    "def grid_search(y, tx, w0, w1):\n",
    "    \"\"\"Algorithm for grid search.\"\"\"\n",
    "    losses = np.zeros((len(w0), len(w1)))\n",
    "    for i in range(len(w0)):\n",
    "        for j in range(len(w1)):\n",
    "            losses[i,j] = compute_loss(y,tx, np.array([w0[i],w1[j]]))\n",
    "    return losses"
   ]
  },
  {
   "cell_type": "markdown",
   "metadata": {},
   "source": [
    "Let us play with the grid search demo now!"
   ]
  },
  {
   "cell_type": "code",
   "execution_count": 18,
   "metadata": {},
   "outputs": [
    {
     "name": "stdout",
     "output_type": "stream",
     "text": [
      "Grid Search: loss*=7.956595728172088, w0*=66.66666666666669, w1*=16.666666666666686, execution time=0.015 seconds\n"
     ]
    },
    {
     "data": {
      "image/png": "[encoded data removed]",
      "text/plain": [
       "<Figure size 720x432 with 3 Axes>"
      ]
     },
     "metadata": {
      "needs_background": "light"
     },
     "output_type": "display_data"
    }
   ],
   "source": [
    "from grid_search import generate_w, get_best_parameters\n",
    "from plots import grid_visualization\n",
    "\n",
    "# Generate the grid of parameters to be swept\n",
    "grid_w0, grid_w1 = generate_w(num_intervals=10)\n",
    "\n",
    "# Start the grid search\n",
    "start_time = datetime.datetime.now()\n",
    "grid_losses = grid_search(y, tx, grid_w0, grid_w1)\n",
    "\n",
    "# Select the best combinaison\n",
    "loss_star, w0_star, w1_star = get_best_parameters(grid_w0, grid_w1, grid_losses)\n",
    "end_time = datetime.datetime.now()\n",
    "execution_time = (end_time - start_time).total_seconds()\n",
    "\n",
    "# Print the results\n",
    "print(\"Grid Search: loss*={l}, w0*={w0}, w1*={w1}, execution time={t:.3f} seconds\".format(\n",
    "      l=loss_star, w0=w0_star, w1=w1_star, t=execution_time))\n",
    "\n",
    "# Plot the results\n",
    "fig = grid_visualization(grid_losses, grid_w0, grid_w1, mean_x, std_x, height, weight)\n",
    "fig.set_size_inches(10.0,6.0)\n",
    "fig.savefig(\"grid_plot\")  # Optional saving"
   ]
  },
  {
   "cell_type": "markdown",
   "metadata": {},
   "source": [
    "# 3 Gradient Descent"
   ]
  },
  {
   "cell_type": "markdown",
   "metadata": {},
   "source": [
    "Again, please fill in the functions `compute_gradient` below:"
   ]
  },
  {
   "cell_type": "code",
   "execution_count": 61,
   "metadata": {},
   "outputs": [],
   "source": [
    "def compute_gradient(y, tx, w):\n",
    "    \"\"\"Compute the gradient.\"\"\"\n",
    "    e = y[:,np.newaxis] - tx @ w[:,np.newaxis]\n",
    "    return - (tx.T[:,np.newaxis] @ e) / tx.shape[0]"
   ]
  },
  {
   "cell_type": "markdown",
   "metadata": {},
   "source": [
    "Please fill in the functions `gradient_descent` below:"
   ]
  },
  {
   "cell_type": "code",
   "execution_count": 28,
   "metadata": {},
   "outputs": [],
   "source": [
    "def gradient_descent(y, tx, initial_w, max_iters, gamma):\n",
    "    \"\"\"Gradient descent algorithm.\"\"\"\n",
    "    # Define parameters to store w and loss\n",
    "    ws = [initial_w]\n",
    "    losses = []\n",
    "    w = initial_w\n",
    "    for n_iter in range(max_iters):\n",
    "        \n",
    "        loss = compute_loss(y,tx,w)\n",
    "        gradient = compute_gradient(y,tx,w).flatten()\n",
    "        w = w - gamma * gradient\n",
    "        # store w and loss\n",
    "        ws.append(w)\n",
    "        losses.append(loss)\n",
    "        print(\"Gradient Descent({bi}/{ti}): loss={l}, w0={w0}, w1={w1}\".format(\n",
    "              bi=n_iter, ti=max_iters - 1, l=loss, w0=w[0], w1=w[1]))\n",
    "\n",
    "    return losses, ws"
   ]
  },
  {
   "cell_type": "markdown",
   "metadata": {},
   "source": [
    "Test your gradient descent function through gradient descent demo shown below:"
   ]
  },
  {
   "cell_type": "code",
   "execution_count": 29,
   "metadata": {},
   "outputs": [
    {
     "name": "stdout",
     "output_type": "stream",
     "text": [
      "Gradient Descent(0/49): loss=5584.473425518336, w0=51.3057454014736, w1=9.435798704492274\n",
      "Gradient Descent(1/49): loss=530.6049242179214, w0=66.69746902191571, w1=12.266538315839998\n",
      "Gradient Descent(2/49): loss=75.75675910088253, w0=71.31498610804834, w1=13.11576019924433\n",
      "Gradient Descent(3/49): loss=34.82042424034894, w0=72.70024123388814, w1=13.370526764265632\n",
      "Gradient Descent(4/49): loss=31.136154102900914, w0=73.11581777164007, w1=13.446956733772023\n",
      "Gradient Descent(5/49): loss=30.80456979053059, w0=73.24049073296565, w1=13.469885724623941\n",
      "Gradient Descent(6/49): loss=30.77472720241726, w0=73.27789262136332, w1=13.476764421879516\n",
      "Gradient Descent(7/49): loss=30.77204136948706, w0=73.28911318788263, w1=13.478828031056189\n",
      "Gradient Descent(8/49): loss=30.77179964452334, w0=73.29247935783842, w1=13.47944711380919\n",
      "Gradient Descent(9/49): loss=30.771777889276603, w0=73.29348920882516, w1=13.47963283863509\n",
      "Gradient Descent(10/49): loss=30.7717759313044, w0=73.29379216412119, w1=13.479688556082861\n",
      "Gradient Descent(11/49): loss=30.771775755086903, w0=73.29388305071, w1=13.479705271317192\n",
      "Gradient Descent(12/49): loss=30.77177573922733, w0=73.29391031668663, w1=13.479710285887492\n",
      "Gradient Descent(13/49): loss=30.771775737799967, w0=73.29391849647962, w1=13.479711790258582\n",
      "Gradient Descent(14/49): loss=30.771775737671508, w0=73.29392095041752, w1=13.479712241569908\n",
      "Gradient Descent(15/49): loss=30.771775737659947, w0=73.29392168659889, w1=13.479712376963306\n",
      "Gradient Descent(16/49): loss=30.771775737658906, w0=73.2939219074533, w1=13.479712417581325\n",
      "Gradient Descent(17/49): loss=30.771775737658807, w0=73.29392197370962, w1=13.479712429766732\n",
      "Gradient Descent(18/49): loss=30.7717757376588, w0=73.29392199358652, w1=13.479712433422353\n",
      "Gradient Descent(19/49): loss=30.771775737658807, w0=73.2939219995496, w1=13.47971243451904\n",
      "Gradient Descent(20/49): loss=30.771775737658796, w0=73.29392200133852, w1=13.479712434848047\n",
      "Gradient Descent(21/49): loss=30.7717757376588, w0=73.29392200187519, w1=13.479712434946748\n",
      "Gradient Descent(22/49): loss=30.7717757376588, w0=73.29392200203618, w1=13.479712434976358\n",
      "Gradient Descent(23/49): loss=30.7717757376588, w0=73.29392200208449, w1=13.479712434985242\n",
      "Gradient Descent(24/49): loss=30.7717757376588, w0=73.29392200209898, w1=13.479712434987906\n",
      "Gradient Descent(25/49): loss=30.771775737658796, w0=73.29392200210333, w1=13.479712434988706\n",
      "Gradient Descent(26/49): loss=30.7717757376588, w0=73.29392200210464, w1=13.479712434988945\n",
      "Gradient Descent(27/49): loss=30.7717757376588, w0=73.29392200210502, w1=13.479712434989018\n",
      "Gradient Descent(28/49): loss=30.7717757376588, w0=73.29392200210513, w1=13.47971243498904\n",
      "Gradient Descent(29/49): loss=30.7717757376588, w0=73.29392200210518, w1=13.479712434989047\n",
      "Gradient Descent(30/49): loss=30.7717757376588, w0=73.29392200210519, w1=13.479712434989048\n",
      "Gradient Descent(31/49): loss=30.7717757376588, w0=73.29392200210519, w1=13.479712434989048\n",
      "Gradient Descent(32/49): loss=30.7717757376588, w0=73.29392200210519, w1=13.479712434989048\n",
      "Gradient Descent(33/49): loss=30.7717757376588, w0=73.29392200210519, w1=13.479712434989048\n",
      "Gradient Descent(34/49): loss=30.7717757376588, w0=73.29392200210519, w1=13.479712434989048\n",
      "Gradient Descent(35/49): loss=30.7717757376588, w0=73.29392200210519, w1=13.479712434989048\n",
      "Gradient Descent(36/49): loss=30.7717757376588, w0=73.29392200210519, w1=13.479712434989048\n",
      "Gradient Descent(37/49): loss=30.7717757376588, w0=73.29392200210519, w1=13.479712434989048\n",
      "Gradient Descent(38/49): loss=30.7717757376588, w0=73.29392200210519, w1=13.479712434989048\n",
      "Gradient Descent(39/49): loss=30.7717757376588, w0=73.29392200210519, w1=13.479712434989048\n",
      "Gradient Descent(40/49): loss=30.7717757376588, w0=73.29392200210519, w1=13.479712434989048\n",
      "Gradient Descent(41/49): loss=30.7717757376588, w0=73.29392200210519, w1=13.479712434989048\n",
      "Gradient Descent(42/49): loss=30.7717757376588, w0=73.29392200210519, w1=13.479712434989048\n",
      "Gradient Descent(43/49): loss=30.7717757376588, w0=73.29392200210519, w1=13.479712434989048\n",
      "Gradient Descent(44/49): loss=30.7717757376588, w0=73.29392200210519, w1=13.479712434989048\n",
      "Gradient Descent(45/49): loss=30.7717757376588, w0=73.29392200210519, w1=13.479712434989048\n",
      "Gradient Descent(46/49): loss=30.7717757376588, w0=73.29392200210519, w1=13.479712434989048\n",
      "Gradient Descent(47/49): loss=30.7717757376588, w0=73.29392200210519, w1=13.479712434989048\n",
      "Gradient Descent(48/49): loss=30.7717757376588, w0=73.29392200210519, w1=13.479712434989048\n",
      "Gradient Descent(49/49): loss=30.7717757376588, w0=73.29392200210519, w1=13.479712434989048\n",
      "Gradient Descent: execution time=0.018 seconds\n"
     ]
    }
   ],
   "source": [
    "# from gradient_descent import *\n",
    "from plots import gradient_descent_visualization\n",
    "\n",
    "# Define the parameters of the algorithm.\n",
    "max_iters = 50\n",
    "gamma = 0.7\n",
    "\n",
    "# Initialization\n",
    "w_initial = np.array([0, 0])\n",
    "\n",
    "# Start gradient descent.\n",
    "start_time = datetime.datetime.now()\n",
    "gradient_losses, gradient_ws = gradient_descent(y, tx, w_initial, max_iters, gamma)\n",
    "end_time = datetime.datetime.now()\n",
    "\n",
    "# Print result\n",
    "exection_time = (end_time - start_time).total_seconds()\n",
    "print(\"Gradient Descent: execution time={t:.3f} seconds\".format(t=exection_time))"
   ]
  },
  {
   "cell_type": "code",
   "execution_count": null,
   "metadata": {},
   "outputs": [],
   "source": [
    "# Time Visualization\n",
    "from ipywidgets import IntSlider, interact\n",
    "\n",
    "def plot_figure(n_iter):\n",
    "    fig = gradient_descent_visualization(\n",
    "        gradient_losses, gradient_ws, grid_losses, grid_w0, grid_w1, mean_x, std_x, height, weight, n_iter)\n",
    "    fig.set_size_inches(10.0, 6.0)\n",
    "\n",
    "interact(plot_figure, n_iter=IntSlider(min=1, max=len(gradient_ws)))"
   ]
  },
  {
   "cell_type": "markdown",
   "metadata": {},
   "source": [
    "# 4 Stochastic gradient descent"
   ]
  },
  {
   "cell_type": "code",
   "execution_count": 102,
   "metadata": {},
   "outputs": [],
   "source": [
    "def compute_stoch_gradient(y, tx, w):\n",
    "    \"\"\"Compute a stochastic gradient from just few examples n and their corresponding y_n labels.\"\"\"\n",
    "    e = y[:,np.newaxis] - tx @ w[:,np.newaxis]\n",
    "    return - (tx.T[:,np.newaxis] @ e) / tx.shape[0]\n",
    "\n",
    "\n",
    "def stochastic_gradient_descent(\n",
    "        y, tx, initial_w, batch_size, max_iters, gamma):\n",
    "    \"\"\"Stochastic gradient descent algorithm.\"\"\"\n",
    "    # Define parameters to store w and loss\n",
    "    ws = [initial_w]\n",
    "    losses = []\n",
    "    w = initial_w\n",
    "    for n_iter in range(max_iters):\n",
    "        \n",
    "        loss = compute_loss(y,tx,w)\n",
    "        for minibatch_y, minibatch_tx in batch_iter(y,tx, batch_size):\n",
    "            gradient = compute_stoch_gradient(minibatch_y,minibatch_tx,w).flatten()\n",
    "        w = w - gamma * gradient\n",
    "        # store w and loss\n",
    "        ws.append(w)\n",
    "        losses.append(loss)\n",
    "        print(\"Gradient Descent({bi}/{ti}): loss={l}, w0={w0}, w1={w1}\".format(\n",
    "              bi=n_iter, ti=max_iters - 1, l=loss, w0=w[0], w1=w[1]))\n",
    "\n",
    "    return losses, ws"
   ]
  },
  {
   "cell_type": "code",
   "execution_count": 103,
   "metadata": {},
   "outputs": [
    {
     "name": "stdout",
     "output_type": "stream",
     "text": [
      "Gradient Descent(0/49): loss=74.06780585492632, w0=4.87055903596848, w1=-5.8171094438726785\n",
      "Gradient Descent(1/49): loss=69.19724681895791, w0=13.390114044919944, w1=-2.8436298881202067\n",
      "Gradient Descent(2/49): loss=60.67769181000647, w0=21.276074798582222, w1=5.733557300608322\n",
      "Gradient Descent(3/49): loss=52.79173105634416, w0=25.79201350691492, w1=3.344831582780568\n",
      "Gradient Descent(4/49): loss=48.275792348011485, w0=30.744903138404496, w1=5.856848600425388\n",
      "Gradient Descent(5/49): loss=43.322902716521845, w0=35.0126939152493, w1=4.299520277171956\n",
      "Gradient Descent(6/49): loss=39.05511193967707, w0=40.675661558824224, w1=7.086252471838293\n",
      "Gradient Descent(7/49): loss=33.39214429610216, w0=44.37961530024404, w1=10.285050979391029\n",
      "Gradient Descent(8/49): loss=29.688190554682325, w0=46.77008849985457, w1=5.661340024227668\n",
      "Gradient Descent(9/49): loss=27.2977173550718, w0=48.22877251996972, w1=4.744046047411128\n",
      "Gradient Descent(10/49): loss=25.83903333495666, w0=52.96736668384932, w1=13.986805647312938\n",
      "Gradient Descent(11/49): loss=21.100439171077046, w0=55.43849595363799, w1=17.00942761214507\n",
      "Gradient Descent(12/49): loss=18.629309901288366, w0=57.137536825327594, w1=15.691417380917125\n",
      "Gradient Descent(13/49): loss=16.930269029598787, w0=58.0226160535104, w1=15.942730400505132\n",
      "Gradient Descent(14/49): loss=16.045189801415965, w0=60.74533203843766, w1=20.763167976296174\n",
      "Gradient Descent(15/49): loss=13.484475900990624, w0=62.46433524401115, w1=20.82793179195837\n",
      "Gradient Descent(16/49): loss=11.978303138326654, w0=64.68611453222708, w1=19.56006464166498\n",
      "Gradient Descent(17/49): loss=9.899549564815912, w0=65.42420127085856, w1=18.67853722233114\n",
      "Gradient Descent(18/49): loss=9.150040374857252, w0=66.13947804570093, w1=17.959679037884918\n",
      "Gradient Descent(19/49): loss=8.471610505738484, w0=66.35147736144415, w1=17.923183491517058\n",
      "Gradient Descent(20/49): loss=8.303527336301832, w0=66.76942298285593, w1=18.44810666060754\n",
      "Gradient Descent(21/49): loss=8.066559731042501, w0=67.93460275757255, w1=18.8900155753912\n",
      "Gradient Descent(22/49): loss=7.367723713187284, w0=67.78887055896742, w1=18.935246062364744\n",
      "Gradient Descent(23/49): loss=7.469957539519379, w0=67.40672669451405, w1=18.576477008292112\n",
      "Gradient Descent(24/49): loss=7.6393241723142635, w0=67.64320160742511, w1=18.821404274446568\n",
      "Gradient Descent(25/49): loss=7.532913606057697, w0=69.03722945912828, w1=19.514369637508178\n",
      "Gradient Descent(26/49): loss=6.968037593718156, w0=69.76023255288403, w1=19.136424179811833\n",
      "Gradient Descent(27/49): loss=6.521451438638367, w0=70.02360093096345, w1=19.156049016386437\n",
      "Gradient Descent(28/49): loss=6.428403008609953, w0=70.85910669284081, w1=19.200554393103076\n",
      "Gradient Descent(29/49): loss=6.188924560121938, w0=70.08535807759617, w1=18.912374792715113\n",
      "Gradient Descent(30/49): loss=6.326296382143351, w0=70.41508403798356, w1=18.903623178530957\n",
      "Gradient Descent(31/49): loss=6.214445376378897, w0=71.42522154404811, w1=19.20834471409772\n",
      "Gradient Descent(32/49): loss=6.066669681982076, w0=71.52155510873699, w1=19.215522988412406\n",
      "Gradient Descent(33/49): loss=6.054967096304625, w0=70.41813471532826, w1=19.40451023413495\n",
      "Gradient Descent(34/49): loss=6.390554801109457, w0=70.34790209369132, w1=19.439333974475367\n",
      "Gradient Descent(35/49): loss=6.424461949942022, w0=71.56927750025972, w1=18.519483634492317\n",
      "Gradient Descent(36/49): loss=5.818747456049343, w0=72.09809142235062, w1=17.91525273808011\n",
      "Gradient Descent(37/49): loss=5.580060204523867, w0=72.13413905513522, w1=17.956201289869334\n",
      "Gradient Descent(38/49): loss=5.5875273045086224, w0=72.8954268276268, w1=17.320729875373313\n",
      "Gradient Descent(39/49): loss=5.44918632023671, w0=72.7804280870832, w1=17.13700949407707\n",
      "Gradient Descent(40/49): loss=5.416018331285452, w0=72.41968800498644, w1=17.567856245518033\n",
      "Gradient Descent(41/49): loss=5.485549801139471, w0=71.9896847622555, w1=17.679573449050658\n",
      "Gradient Descent(42/49): loss=5.533996185472571, w0=72.02589358027387, w1=17.68527892596352\n",
      "Gradient Descent(43/49): loss=5.531754202154898, w0=72.4094609220439, w1=17.584748238569038\n",
      "Gradient Descent(44/49): loss=5.48908444315932, w0=71.77573169681283, w1=17.78143697133312\n",
      "Gradient Descent(45/49): loss=5.583780716165362, w0=70.80110498949557, w1=17.017894214892614\n",
      "Gradient Descent(46/49): loss=5.639058066121921, w0=71.03580811344312, w1=17.14481488588155\n",
      "Gradient Descent(47/49): loss=5.587824176450656, w0=71.58548838870507, w1=17.940028185062417\n",
      "Gradient Descent(48/49): loss=5.651770195225808, w0=71.1979281493294, w1=17.66562099627932\n",
      "Gradient Descent(49/49): loss=5.64849387086788, w0=70.85839852377927, w1=17.78398433401887\n",
      "SGD: execution time=0.016 seconds\n"
     ]
    }
   ],
   "source": [
    "# from stochastic_gradient_descent import *\n",
    "\n",
    "# Define the parameters of the algorithm.\n",
    "max_iters = 50\n",
    "gamma = 0.1\n",
    "batch_size = 1\n",
    "\n",
    "# Initialization\n",
    "w_initial = np.array([0, 0])\n",
    "\n",
    "# Start SGD.\n",
    "start_time = datetime.datetime.now()\n",
    "sgd_losses, sgd_ws = stochastic_gradient_descent(\n",
    "    y, tx, w_initial, batch_size, max_iters, gamma)\n",
    "end_time = datetime.datetime.now()\n",
    "\n",
    "# Print result\n",
    "exection_time = (end_time - start_time).total_seconds()\n",
    "print(\"SGD: execution time={t:.3f} seconds\".format(t=exection_time))"
   ]
  },
  {
   "cell_type": "code",
   "execution_count": null,
   "metadata": {},
   "outputs": [],
   "source": [
    "# Time Visualization\n",
    "from ipywidgets import IntSlider, interact\n",
    "def plot_figure(n_iter):\n",
    "    fig = gradient_descent_visualization(\n",
    "        sgd_losses, sgd_ws, grid_losses, grid_w0, grid_w1, mean_x, std_x, height, weight, n_iter)\n",
    "    fig.set_size_inches(10.0, 6.0)\n",
    "\n",
    "interact(plot_figure, n_iter=IntSlider(min=1, max=len(gradient_ws)))"
   ]
  },
  {
   "cell_type": "markdown",
   "metadata": {},
   "source": [
    "# 5 Effect of Outliers"
   ]
  },
  {
   "cell_type": "markdown",
   "metadata": {},
   "source": [
    "### Exercise 5\n"
   ]
  },
  {
   "cell_type": "code",
   "execution_count": 7,
   "metadata": {},
   "outputs": [
    {
     "data": {
      "text/plain": [
       "<matplotlib.collections.PathCollection at 0x7f955ba36c90>"
      ]
     },
     "execution_count": 7,
     "metadata": {},
     "output_type": "execute_result"
    },
    {
     "data": {
      "image/png": "[encoded data removed]",
      "text/plain": [
       "<Figure size 432x288 with 1 Axes>"
      ]
     },
     "metadata": {
      "needs_background": "light"
     },
     "output_type": "display_data"
    }
   ],
   "source": [
    "height, weight, gender = load_data(sub_sample=True, add_outlier=True)\n",
    "x, mean_x, std_x = standardize(height)\n",
    "y, tx = build_model_data(x, weight)\n",
    "plt.scatter(y,tx[:,1])"
   ]
  },
  {
   "cell_type": "code",
   "execution_count": 39,
   "metadata": {},
   "outputs": [
    {
     "name": "stdout",
     "output_type": "stream",
     "text": [
      "Gradient Descent(0/49): loss=5739.670229071705, w0=51.84746409844845, w1=7.724426406192432\n",
      "Gradient Descent(1/49): loss=636.5642494031916, w0=67.40170332798299, w1=10.04175432805012\n",
      "Gradient Descent(2/49): loss=177.28471123302543, w0=72.06797509684336, w1=10.736952704607411\n",
      "Gradient Descent(3/49): loss=135.9495527977104, w0=73.46785662750146, w1=10.945512217574596\n",
      "Gradient Descent(4/49): loss=132.22938853853208, w0=73.88782108669889, w1=11.00808007146475\n",
      "Gradient Descent(5/49): loss=131.89457375520604, w0=74.01381042445813, w1=11.026850427631796\n",
      "Gradient Descent(6/49): loss=131.8644404247067, w0=74.0516072257859, w1=11.03248153448191\n",
      "Gradient Descent(7/49): loss=131.86172842496177, w0=74.06294626618423, w1=11.034170866536943\n",
      "Gradient Descent(8/49): loss=131.8614843449847, w0=74.06634797830372, w1=11.034677666153454\n",
      "Gradient Descent(9/49): loss=131.86146237778675, w0=74.06736849193958, w1=11.034829706038407\n",
      "Gradient Descent(10/49): loss=131.86146040073896, w0=74.06767464603033, w1=11.034875318003893\n",
      "Gradient Descent(11/49): loss=131.86146022280462, w0=74.06776649225755, w1=11.03488900159354\n",
      "Gradient Descent(12/49): loss=131.86146020679058, w0=74.06779404612573, w1=11.034893106670433\n",
      "Gradient Descent(13/49): loss=131.86146020534932, w0=74.06780231228618, w1=11.0348943381935\n",
      "Gradient Descent(14/49): loss=131.86146020521957, w0=74.06780479213431, w1=11.034894707650421\n",
      "Gradient Descent(15/49): loss=131.8614602052079, w0=74.06780553608876, w1=11.034894818487498\n",
      "Gradient Descent(16/49): loss=131.86146020520684, w0=74.06780575927509, w1=11.03489485173862\n",
      "Gradient Descent(17/49): loss=131.86146020520678, w0=74.06780582623098, w1=11.034894861713958\n",
      "Gradient Descent(18/49): loss=131.86146020520675, w0=74.06780584631775, w1=11.034894864706558\n",
      "Gradient Descent(19/49): loss=131.86146020520675, w0=74.06780585234378, w1=11.034894865604338\n",
      "Gradient Descent(20/49): loss=131.86146020520675, w0=74.06780585415159, w1=11.034894865873673\n",
      "Gradient Descent(21/49): loss=131.86146020520675, w0=74.06780585469393, w1=11.034894865954472\n",
      "Gradient Descent(22/49): loss=131.86146020520675, w0=74.06780585485663, w1=11.034894865978712\n",
      "Gradient Descent(23/49): loss=131.86146020520673, w0=74.06780585490544, w1=11.034894865985985\n",
      "Gradient Descent(24/49): loss=131.86146020520675, w0=74.0678058549201, w1=11.034894865988166\n",
      "Gradient Descent(25/49): loss=131.86146020520675, w0=74.06780585492449, w1=11.034894865988822\n",
      "Gradient Descent(26/49): loss=131.86146020520675, w0=74.06780585492581, w1=11.034894865989017\n",
      "Gradient Descent(27/49): loss=131.86146020520675, w0=74.06780585492619, w1=11.034894865989076\n",
      "Gradient Descent(28/49): loss=131.86146020520675, w0=74.06780585492632, w1=11.034894865989093\n",
      "Gradient Descent(29/49): loss=131.86146020520675, w0=74.06780585492635, w1=11.034894865989099\n",
      "Gradient Descent(30/49): loss=131.86146020520678, w0=74.06780585492636, w1=11.0348948659891\n",
      "Gradient Descent(31/49): loss=131.86146020520678, w0=74.06780585492636, w1=11.034894865989102\n",
      "Gradient Descent(32/49): loss=131.86146020520675, w0=74.06780585492636, w1=11.034894865989102\n",
      "Gradient Descent(33/49): loss=131.86146020520675, w0=74.06780585492636, w1=11.034894865989102\n",
      "Gradient Descent(34/49): loss=131.86146020520675, w0=74.06780585492636, w1=11.034894865989102\n",
      "Gradient Descent(35/49): loss=131.86146020520675, w0=74.06780585492636, w1=11.034894865989102\n",
      "Gradient Descent(36/49): loss=131.86146020520675, w0=74.06780585492636, w1=11.034894865989102\n",
      "Gradient Descent(37/49): loss=131.86146020520675, w0=74.06780585492636, w1=11.034894865989102\n",
      "Gradient Descent(38/49): loss=131.86146020520675, w0=74.06780585492636, w1=11.034894865989102\n",
      "Gradient Descent(39/49): loss=131.86146020520675, w0=74.06780585492636, w1=11.034894865989102\n",
      "Gradient Descent(40/49): loss=131.86146020520675, w0=74.06780585492636, w1=11.034894865989102\n",
      "Gradient Descent(41/49): loss=131.86146020520675, w0=74.06780585492636, w1=11.034894865989102\n",
      "Gradient Descent(42/49): loss=131.86146020520675, w0=74.06780585492636, w1=11.034894865989102\n",
      "Gradient Descent(43/49): loss=131.86146020520675, w0=74.06780585492636, w1=11.034894865989102\n",
      "Gradient Descent(44/49): loss=131.86146020520675, w0=74.06780585492636, w1=11.034894865989102\n",
      "Gradient Descent(45/49): loss=131.86146020520675, w0=74.06780585492636, w1=11.034894865989102\n",
      "Gradient Descent(46/49): loss=131.86146020520675, w0=74.06780585492636, w1=11.034894865989102\n",
      "Gradient Descent(47/49): loss=131.86146020520675, w0=74.06780585492636, w1=11.034894865989102\n",
      "Gradient Descent(48/49): loss=131.86146020520675, w0=74.06780585492636, w1=11.034894865989102\n",
      "Gradient Descent(49/49): loss=131.86146020520675, w0=74.06780585492636, w1=11.034894865989102\n",
      "Gradient Descent: execution time=0.004 seconds\n"
     ]
    }
   ],
   "source": [
    "# from gradient_descent import *\n",
    "from plots import gradient_descent_visualization\n",
    "\n",
    "# Define the parameters of the algorithm.\n",
    "max_iters = 50\n",
    "gamma = 0.7\n",
    "\n",
    "# Initialization\n",
    "w_initial = np.array([0, 0])\n",
    "\n",
    "# Start gradient descent.\n",
    "start_time = datetime.datetime.now()\n",
    "gradient_losses, gradient_ws = gradient_descent(y, tx, w_initial, max_iters, gamma)\n",
    "end_time = datetime.datetime.now()\n",
    "\n",
    "# Print result\n",
    "exection_time = (end_time - start_time).total_seconds()\n",
    "print(\"Gradient Descent: execution time={t:.3f} seconds\".format(t=exection_time))"
   ]
  },
  {
   "cell_type": "code",
   "execution_count": 42,
   "metadata": {},
   "outputs": [
    {
     "data": {
      "image/png": "[encoded data removed]",
      "text/plain": [
       "<Figure size 720x432 with 3 Axes>"
      ]
     },
     "metadata": {
      "needs_background": "light"
     },
     "output_type": "display_data"
    }
   ],
   "source": [
    "def plot_figure(n_iter):\n",
    "    fig = gradient_descent_visualization(\n",
    "        gradient_losses, gradient_ws, grid_losses, grid_w0, grid_w1, mean_x, std_x, height, weight, n_iter)\n",
    "    fig.set_size_inches(10.0, 6.0)\n",
    "\n",
    "plot_figure(len(gradient_ws))"
   ]
  },
  {
   "cell_type": "markdown",
   "metadata": {},
   "source": [
    "# 6 Subgradient Descent"
   ]
  },
  {
   "cell_type": "markdown",
   "metadata": {},
   "source": [
    "### Exercise 6"
   ]
  },
  {
   "cell_type": "markdown",
   "metadata": {},
   "source": [
    "Modify the function `compute_loss(y, tx, w)` for the Mean Absolute Error cost function [here](#compute_loss)"
   ]
  },
  {
   "cell_type": "markdown",
   "metadata": {},
   "source": [
    "#### Subgradient descent"
   ]
  },
  {
   "cell_type": "code",
   "execution_count": 94,
   "metadata": {},
   "outputs": [],
   "source": [
    "def compute_subgradient(y, tx, w):\n",
    "    \"\"\"Compute the gradient.\"\"\"\n",
    "    e = y[:,np.newaxis] - tx @ w[:,np.newaxis]\n",
    "    sig = np.sign(e)\n",
    "    sig[sig==0]=1\n",
    "    return - (tx.T[:,np.newaxis] @ sig) / tx.shape[0]"
   ]
  },
  {
   "cell_type": "code",
   "execution_count": 95,
   "metadata": {},
   "outputs": [
    {
     "data": {
      "text/plain": [
       "array([[[-1.00000000e+00]],\n",
       "\n",
       "       [[-1.19266533e-15]]])"
      ]
     },
     "execution_count": 95,
     "metadata": {},
     "output_type": "execute_result"
    }
   ],
   "source": [
    "compute_subgradient(y,tx , np.array([1,2]))"
   ]
  },
  {
   "cell_type": "code",
   "execution_count": 96,
   "metadata": {},
   "outputs": [],
   "source": [
    "def subgradient_descent(y, tx, initial_w, max_iters, gamma):\n",
    "    \"\"\"Gradient descent algorithm.\"\"\"\n",
    "    # Define parameters to store w and loss\n",
    "    ws = [initial_w]\n",
    "    losses = []\n",
    "    w = initial_w\n",
    "    for n_iter in range(max_iters):\n",
    "        \n",
    "        loss = compute_loss(y,tx,w)\n",
    "        subgradient = compute_subgradient(y,tx,w).flatten()\n",
    "        w = w - gamma * subgradient\n",
    "        # store w and loss\n",
    "        ws.append(w)\n",
    "        losses.append(loss)\n",
    "        print(\"Gradient Descent({bi}/{ti}): loss={l}, w0={w0}, w1={w1}\".format(\n",
    "              bi=n_iter, ti=max_iters - 1, l=loss, w0=w[0], w1=w[1]))\n",
    "\n",
    "    return losses, ws"
   ]
  },
  {
   "cell_type": "code",
   "execution_count": 98,
   "metadata": {
    "scrolled": true
   },
   "outputs": [
    {
     "name": "stdout",
     "output_type": "stream",
     "text": [
      "Gradient Descent(0/49): loss=74.06780585492632, w0=0.7, w1=8.348657299037686e-16\n",
      "Gradient Descent(1/49): loss=73.36780585492639, w0=1.4, w1=1.6697314598075372e-15\n",
      "Gradient Descent(2/49): loss=72.66780585492634, w0=2.0999999999999996, w1=2.504597189711306e-15\n",
      "Gradient Descent(3/49): loss=71.96780585492641, w0=2.8, w1=3.3394629196150744e-15\n",
      "Gradient Descent(4/49): loss=71.26780585492642, w0=3.5, w1=4.174328649518843e-15\n",
      "Gradient Descent(5/49): loss=70.56780585492632, w0=4.2, w1=5.009194379422612e-15\n",
      "Gradient Descent(6/49): loss=69.86780585492639, w0=4.9, w1=5.84406010932638e-15\n",
      "Gradient Descent(7/49): loss=69.16780585492634, w0=5.6000000000000005, w1=6.678925839230149e-15\n",
      "Gradient Descent(8/49): loss=68.46780585492641, w0=6.300000000000001, w1=7.513791569133917e-15\n",
      "Gradient Descent(9/49): loss=67.76780585492642, w0=7.000000000000001, w1=8.348657299037687e-15\n",
      "Gradient Descent(10/49): loss=67.0678058549263, w0=7.700000000000001, w1=9.183523028941456e-15\n",
      "Gradient Descent(11/49): loss=66.36780585492639, w0=8.4, w1=1.0018388758845225e-14\n",
      "Gradient Descent(12/49): loss=65.66780585492636, w0=9.1, w1=1.0853254488748995e-14\n",
      "Gradient Descent(13/49): loss=64.96780585492641, w0=9.799999999999999, w1=1.1688120218652764e-14\n",
      "Gradient Descent(14/49): loss=64.26780585492641, w0=10.499999999999998, w1=1.2522985948556533e-14\n",
      "Gradient Descent(15/49): loss=63.56780585492632, w0=11.199999999999998, w1=1.3357851678460302e-14\n",
      "Gradient Descent(16/49): loss=62.867805854926395, w0=11.899999999999997, w1=1.4192717408364072e-14\n",
      "Gradient Descent(17/49): loss=62.16780585492636, w0=12.599999999999996, w1=1.502758313826784e-14\n",
      "Gradient Descent(18/49): loss=61.46780585492642, w0=13.299999999999995, w1=1.586244886817161e-14\n",
      "Gradient Descent(19/49): loss=60.7678058549264, w0=13.999999999999995, w1=1.669731459807538e-14\n",
      "Gradient Descent(20/49): loss=60.06780585492632, w0=14.699999999999994, w1=1.753218032797915e-14\n",
      "Gradient Descent(21/49): loss=59.367805854926424, w0=15.399999999999993, w1=1.8367046057882918e-14\n",
      "Gradient Descent(22/49): loss=58.66780585492638, w0=16.099999999999994, w1=1.9201911787786688e-14\n",
      "Gradient Descent(23/49): loss=57.967805854926404, w0=16.799999999999994, w1=2.0036777517690457e-14\n",
      "Gradient Descent(24/49): loss=57.2678058549264, w0=17.499999999999993, w1=2.0871643247594226e-14\n",
      "Gradient Descent(25/49): loss=56.56780585492632, w0=18.199999999999992, w1=2.1706508977497995e-14\n",
      "Gradient Descent(26/49): loss=55.867805854926424, w0=18.89999999999999, w1=2.2541374707401765e-14\n",
      "Gradient Descent(27/49): loss=55.16780585492638, w0=19.59999999999999, w1=2.3376240437305534e-14\n",
      "Gradient Descent(28/49): loss=54.467805854926425, w0=20.29999999999999, w1=2.4211106167209303e-14\n",
      "Gradient Descent(29/49): loss=53.7678058549264, w0=20.99999999999999, w1=2.5045971897113073e-14\n",
      "Gradient Descent(30/49): loss=53.06780585492635, w0=21.69999999999999, w1=2.5880837627016842e-14\n",
      "Gradient Descent(31/49): loss=52.36780585492644, w0=22.399999999999988, w1=2.671570335692061e-14\n",
      "Gradient Descent(32/49): loss=51.667805854926385, w0=23.099999999999987, w1=2.755056908682438e-14\n",
      "Gradient Descent(33/49): loss=50.967805854926404, w0=23.799999999999986, w1=2.838543481672815e-14\n",
      "Gradient Descent(34/49): loss=50.2678058549264, w0=24.499999999999986, w1=2.9220300546631916e-14\n",
      "Gradient Descent(35/49): loss=49.56780585492638, w0=25.199999999999985, w1=3.005516627653568e-14\n",
      "Gradient Descent(36/49): loss=48.86780585492643, w0=25.899999999999984, w1=3.089003200643945e-14\n",
      "Gradient Descent(37/49): loss=48.167805854926385, w0=26.599999999999984, w1=3.1724897736343214e-14\n",
      "Gradient Descent(38/49): loss=47.46780585492639, w0=27.299999999999983, w1=3.255976346624698e-14\n",
      "Gradient Descent(39/49): loss=46.76780585492641, w0=27.999999999999982, w1=3.3394629196150747e-14\n",
      "Gradient Descent(40/49): loss=46.067805854926384, w0=28.69999999999998, w1=3.422949492605451e-14\n",
      "Gradient Descent(41/49): loss=45.36780585492641, w0=29.39999999999998, w1=3.506436065595828e-14\n",
      "Gradient Descent(42/49): loss=44.66780585492641, w0=30.09999999999998, w1=3.5899226385862045e-14\n",
      "Gradient Descent(43/49): loss=43.96780585492639, w0=30.79999999999998, w1=3.673409211576581e-14\n",
      "Gradient Descent(44/49): loss=43.267805854926415, w0=31.49999999999998, w1=3.756895784566958e-14\n",
      "Gradient Descent(45/49): loss=42.56780585492638, w0=32.19999999999998, w1=3.8403823575573344e-14\n",
      "Gradient Descent(46/49): loss=41.867805854926395, w0=32.899999999999984, w1=3.923868930547711e-14\n",
      "Gradient Descent(47/49): loss=41.167805854926385, w0=33.59999999999999, w1=4.0073555035380876e-14\n",
      "Gradient Descent(48/49): loss=40.4678058549264, w0=34.29999999999999, w1=4.090842076528464e-14\n",
      "Gradient Descent(49/49): loss=39.76780585492638, w0=34.99999999999999, w1=4.174328649518841e-14\n",
      "Gradient Descent: execution time=0.011 seconds\n"
     ]
    }
   ],
   "source": [
    "# from gradient_descent import *\n",
    "from plots import gradient_descent_visualization\n",
    "\n",
    "# Define the parameters of the algorithm.\n",
    "max_iters = 50\n",
    "gamma = 0.7\n",
    "\n",
    "# Initialization\n",
    "w_initial = np.array([0,0])\n",
    "\n",
    "# Start gradient descent.\n",
    "start_time = datetime.datetime.now()\n",
    "gradient_losses, gradient_ws = subgradient_descent(y, tx, w_initial, max_iters, gamma)\n",
    "end_time = datetime.datetime.now()\n",
    "\n",
    "# Print result\n",
    "exection_time = (end_time - start_time).total_seconds()\n",
    "print(\"Gradient Descent: execution time={t:.3f} seconds\".format(t=exection_time))"
   ]
  },
  {
   "cell_type": "code",
   "execution_count": 99,
   "metadata": {},
   "outputs": [
    {
     "data": {
      "image/png": "[encoded data removed]",
      "text/plain": [
       "<Figure size 720x432 with 3 Axes>"
      ]
     },
     "metadata": {
      "needs_background": "light"
     },
     "output_type": "display_data"
    }
   ],
   "source": [
    "def plot_figure(n_iter):\n",
    "    fig = gradient_descent_visualization(\n",
    "        gradient_losses, gradient_ws, grid_losses, grid_w0, grid_w1, mean_x, std_x, height, weight, n_iter)\n",
    "    fig.set_size_inches(10.0, 6.0)\n",
    "\n",
    "plot_figure(len(gradient_ws))"
   ]
  },
  {
   "cell_type": "markdown",
   "metadata": {},
   "source": [
    "#### Stochastic subgradient descent"
   ]
  },
  {
   "cell_type": "code",
   "execution_count": 100,
   "metadata": {},
   "outputs": [],
   "source": [
    "def compute_subgradient(y, tx, w):\n",
    "    \"\"\"Compute the gradient.\"\"\"\n",
    "    e = y[:,np.newaxis] - tx @ w[:,np.newaxis]\n",
    "    sig = np.sign(e)\n",
    "    sig[sig==0]=1\n",
    "    return - (tx.T[:,np.newaxis] @ sig) / tx.shape[0]\n",
    "\n",
    "\n",
    "def stochastic_gradient_descent(\n",
    "        y, tx, initial_w, batch_size, max_iters, gamma):\n",
    "    \"\"\"Stochastic gradient descent algorithm.\"\"\"\n",
    "    # Define parameters to store w and loss\n",
    "    ws = [initial_w]\n",
    "    losses = []\n",
    "    w = initial_w\n",
    "    for n_iter in range(max_iters):\n",
    "        \n",
    "        loss = compute_loss(y,tx,w)\n",
    "        for minibatch_y, minibatch_tx in batch_iter(y,tx, batch_size):\n",
    "            gradient = compute_subgradient(minibatch_y,minibatch_tx,w).flatten()\n",
    "        w = w - gamma * gradient\n",
    "        # store w and loss\n",
    "        ws.append(w)\n",
    "        losses.append(loss)\n",
    "        print(\"Gradient Descent({bi}/{ti}): loss={l}, w0={w0}, w1={w1}\".format(\n",
    "              bi=n_iter, ti=max_iters - 1, l=loss, w0=w[0], w1=w[1]))\n",
    "\n",
    "    return losses, ws"
   ]
  },
  {
   "cell_type": "code",
   "execution_count": 101,
   "metadata": {},
   "outputs": [
    {
     "name": "stdout",
     "output_type": "stream",
     "text": [
      "Gradient Descent(0/49): loss=74.06780585492632, w0=0.1, w1=0.0938832433135693\n",
      "Gradient Descent(1/49): loss=73.96780585492637, w0=0.2, w1=-0.30187385624200064\n",
      "Gradient Descent(2/49): loss=73.86780585492642, w0=0.30000000000000004, w1=-0.1828256301620611\n",
      "Gradient Descent(3/49): loss=73.76780585492637, w0=0.4, w1=-0.09820877855232135\n",
      "Gradient Descent(4/49): loss=73.6678058549264, w0=0.5, w1=-0.09288201974976854\n",
      "Gradient Descent(5/49): loss=73.56780585492636, w0=0.6, w1=0.043994421807632494\n",
      "Gradient Descent(6/49): loss=73.46780585492635, w0=0.7, w1=0.0720687193474186\n",
      "Gradient Descent(7/49): loss=73.36780585492636, w0=0.7999999999999999, w1=-0.0284319832798475\n",
      "Gradient Descent(8/49): loss=73.26780585492637, w0=0.8999999999999999, w1=-0.03306469867518461\n",
      "Gradient Descent(9/49): loss=73.16780585492631, w0=0.9999999999999999, w1=-0.11931699438468657\n",
      "Gradient Descent(10/49): loss=73.06780585492636, w0=1.0999999999999999, w1=-0.01475062388359584\n",
      "Gradient Descent(11/49): loss=72.9678058549263, w0=1.2, w1=-0.030489783437987333\n",
      "Gradient Descent(12/49): loss=72.86780585492637, w0=1.3, w1=-0.04622894299237883\n",
      "Gradient Descent(13/49): loss=72.76780585492642, w0=1.4000000000000001, w1=-0.19293354264845508\n",
      "Gradient Descent(14/49): loss=72.6678058549264, w0=1.5000000000000002, w1=-0.22735924474369054\n",
      "Gradient Descent(15/49): loss=72.56780585492638, w0=1.6000000000000003, w1=-0.19931001709837226\n",
      "Gradient Descent(16/49): loss=72.46780585492637, w0=1.7000000000000004, w1=-0.2807328920320845\n",
      "Gradient Descent(17/49): loss=72.3678058549264, w0=1.8000000000000005, w1=-0.3372238623096568\n",
      "Gradient Descent(18/49): loss=72.26780585492638, w0=1.9000000000000006, w1=-0.18630940068410104\n",
      "Gradient Descent(19/49): loss=72.1678058549264, w0=2.0000000000000004, w1=-0.09994767127636399\n",
      "Gradient Descent(20/49): loss=72.06780585492636, w0=2.1000000000000005, w1=-0.02427610355320453\n",
      "Gradient Descent(21/49): loss=71.9678058549264, w0=2.2000000000000006, w1=0.06604881480132271\n",
      "Gradient Descent(22/49): loss=71.86780585492637, w0=2.3000000000000007, w1=0.03737030950857252\n",
      "Gradient Descent(23/49): loss=71.76780585492638, w0=2.400000000000001, w1=-0.04178784391951046\n",
      "Gradient Descent(24/49): loss=71.66780585492641, w0=2.500000000000001, w1=-0.0020554198049836103\n",
      "Gradient Descent(25/49): loss=71.56780585492636, w0=2.600000000000001, w1=-0.06078044616815875\n",
      "Gradient Descent(26/49): loss=71.46780585492634, w0=2.700000000000001, w1=-0.07651960572255025\n",
      "Gradient Descent(27/49): loss=71.36780585492635, w0=2.800000000000001, w1=-0.0784846337190489\n",
      "Gradient Descent(28/49): loss=71.26780585492635, w0=2.9000000000000012, w1=0.11656814523289555\n",
      "Gradient Descent(29/49): loss=71.16780585492643, w0=3.0000000000000013, w1=0.2676989033511182\n",
      "Gradient Descent(30/49): loss=71.0678058549264, w0=3.1000000000000014, w1=0.3287727726678922\n",
      "Gradient Descent(31/49): loss=70.96780585492638, w0=3.2000000000000015, w1=0.38984664198466623\n",
      "Gradient Descent(32/49): loss=70.86780585492637, w0=3.3000000000000016, w1=0.39729811991748204\n",
      "Gradient Descent(33/49): loss=70.76780585492632, w0=3.4000000000000017, w1=0.48762303827200926\n",
      "Gradient Descent(34/49): loss=70.66780585492636, w0=3.5000000000000018, w1=0.4380396117548677\n",
      "Gradient Descent(35/49): loss=70.56780585492638, w0=3.600000000000002, w1=0.5429361465394105\n",
      "Gradient Descent(36/49): loss=70.46780585492638, w0=3.700000000000002, w1=0.504153263399042\n",
      "Gradient Descent(37/49): loss=70.36780585492635, w0=3.800000000000002, w1=0.5932229951542103\n",
      "Gradient Descent(38/49): loss=70.2678058549264, w0=3.900000000000002, w1=0.7702681810082105\n",
      "Gradient Descent(39/49): loss=70.16780585492639, w0=4.000000000000002, w1=0.8566299104159475\n",
      "Gradient Descent(40/49): loss=70.06780585492636, w0=4.100000000000001, w1=0.7790561302209335\n",
      "Gradient Descent(41/49): loss=69.96780585492641, w0=4.200000000000001, w1=0.8079756859410762\n",
      "Gradient Descent(42/49): loss=69.86780585492635, w0=4.300000000000001, w1=0.8284514845974357\n",
      "Gradient Descent(43/49): loss=69.7678058549264, w0=4.4, w1=0.7149701496701814\n",
      "Gradient Descent(44/49): loss=69.66780585492636, w0=4.5, w1=0.6358119962420984\n",
      "Gradient Descent(45/49): loss=69.56780585492639, w0=4.6, w1=0.6242670954579969\n",
      "Gradient Descent(46/49): loss=69.46780585492641, w0=4.699999999999999, w1=0.7120758070480522\n",
      "Gradient Descent(47/49): loss=69.36780585492637, w0=4.799999999999999, w1=0.7869587429697262\n",
      "Gradient Descent(48/49): loss=69.26780585492638, w0=4.899999999999999, w1=0.793005393913082\n",
      "Gradient Descent(49/49): loss=69.16780585492639, w0=4.999999999999998, w1=0.8684419389860318\n",
      "SGD: execution time=0.019 seconds\n"
     ]
    }
   ],
   "source": [
    "# from stochastic_gradient_descent import *\n",
    "\n",
    "# Define the parameters of the algorithm.\n",
    "max_iters = 50\n",
    "gamma = 0.1\n",
    "batch_size = 1\n",
    "\n",
    "# Initialization\n",
    "w_initial = np.array([0, 0])\n",
    "\n",
    "# Start SGD.\n",
    "start_time = datetime.datetime.now()\n",
    "sgd_losses, sgd_ws = stochastic_gradient_descent(\n",
    "    y, tx, w_initial, batch_size, max_iters, gamma)\n",
    "end_time = datetime.datetime.now()\n",
    "\n",
    "# Print result\n",
    "exection_time = (end_time - start_time).total_seconds()\n",
    "print(\"SGD: execution time={t:.3f} seconds\".format(t=exection_time))"
   ]
  },
  {
   "cell_type": "code",
   "execution_count": null,
   "metadata": {},
   "outputs": [],
   "source": []
  }
 ],
 "metadata": {
  "anaconda-cloud": {},
  "kernelspec": {
   "display_name": "Python 3",
   "language": "python",
   "name": "python3"
  },
  "language_info": {
   "codemirror_mode": {
    "name": "ipython",
    "version": 3
   },
   "file_extension": ".py",
   "mimetype": "text/x-python",
   "name": "python",
   "nbconvert_exporter": "python",
   "pygments_lexer": "ipython3",
   "version": "3.7.4"
  }
 },
 "nbformat": 4,
 "nbformat_minor": 1
}
