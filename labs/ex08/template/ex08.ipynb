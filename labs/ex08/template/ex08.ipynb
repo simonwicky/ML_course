{
 "cells": [
  {
   "cell_type": "code",
   "execution_count": 1,
   "metadata": {},
   "outputs": [],
   "source": [
    "# Useful starting lines\n",
    "%matplotlib inline\n",
    "import numpy as np\n",
    "import matplotlib.pyplot as plt\n",
    "import torch\n",
    "import torch.nn as nn\n",
    "from torch.autograd import Variable\n",
    "%load_ext autoreload\n",
    "%autoreload 2"
   ]
  },
  {
   "cell_type": "code",
   "execution_count": 2,
   "metadata": {},
   "outputs": [],
   "source": [
    "# Defining a toy dataset\n",
    "x_train = np.array([[3.3], [4.4], [5.5], [6.71], [6.93], [4.168], \n",
    "                    [9.779], [6.182], [7.59], [2.167], [7.042], \n",
    "                    [10.791], [5.313], [7.997], [3.1]], dtype=np.float32)\n",
    "\n",
    "y_train = np.array([[1.7], [2.76], [2.09], [3.19], [1.694], [1.573], \n",
    "                    [3.366], [2.596], [2.53], [1.221], [2.827], \n",
    "                        [3.465], [1.65], [2.904], [1.3]], dtype=np.float32)"
   ]
  },
  {
   "cell_type": "markdown",
   "metadata": {},
   "source": [
    "## Linear regression"
   ]
  },
  {
   "cell_type": "code",
   "execution_count": 39,
   "metadata": {},
   "outputs": [
    {
     "name": "stdout",
     "output_type": "stream",
     "text": [
      "Testing model: an input of [0. 1. 2.] gives a prediction:\n",
      " tensor([1., 2., 3.], grad_fn=<AddBackward0>)\n"
     ]
    }
   ],
   "source": [
    "class MyLinearRegression:\n",
    "    def __init__(self):\n",
    "        self.w = torch.ones(x_train.shape[1],requires_grad=True)\n",
    "        self.b = torch.ones(x_train.shape[1],requires_grad=True)\n",
    "    \n",
    "    def forward(self, x):\n",
    "        return x * self.w + self.b\n",
    "    \n",
    "    def parameters(self):\n",
    "        return self.w,self.b\n",
    "    \n",
    "    def __call__(self, x):\n",
    "        # Convenience function\n",
    "        return self.forward(x)\n",
    "    \n",
    "\n",
    "def mselossfunc(pred, y):\n",
    "    return torch.mean((y - pred) ** 2)\n",
    "\n",
    "model = MyLinearRegression()\n",
    "numpy_inputs = np.asarray([0.0, 1.0, 2.0], dtype=np.float32)\n",
    "torch_inputs = torch.from_numpy(numpy_inputs)\n",
    "torch_outputs = model(torch_inputs)\n",
    "print(\"Testing model: an input of %s gives a prediction:\\n %s\" % (numpy_inputs, torch_outputs))"
   ]
  },
  {
   "cell_type": "code",
   "execution_count": 40,
   "metadata": {},
   "outputs": [],
   "source": [
    "def train(features, labels, model, lossfunc, optimizer, num_epoch):\n",
    "\n",
    "    for epoch in range(num_epoch):\n",
    "        x = torch.from_numpy(features)\n",
    "        y = torch.from_numpy(labels)\n",
    "\n",
    "        pred = model(x)\n",
    "        loss = lossfunc(pred,y)\n",
    "        \n",
    "        optimizer.zero_grad()\n",
    "        loss.backward()\n",
    "        optimizer.step()\n",
    "        \n",
    "        if epoch % 10 == 0:\n",
    "            print ('Epoch [%d/%d], Loss: %.4f' %(epoch+1, num_epoch, loss.item()))\n",
    "        \n",
    "        \n",
    "def visualize(x_train, y_train, model):\n",
    "    # A convenience function for visualizing predictions given by the model\n",
    "\n",
    "    predicted = model(torch.from_numpy(x_train)).data.numpy()\n",
    "    order = np.argsort(x_train, axis=0)\n",
    "    plt.plot(x_train[order].flatten(), y_train[order].flatten(), 'ro', label='Original data')\n",
    "    plt.plot(x_train[order].flatten(), predicted[order].flatten(), label='Fitted line')\n",
    "    plt.legend()\n",
    "    plt.show()"
   ]
  },
  {
   "cell_type": "code",
   "execution_count": 41,
   "metadata": {},
   "outputs": [
    {
     "name": "stdout",
     "output_type": "stream",
     "text": [
      "Epoch [1/50], Loss: 25.6761\n",
      "Epoch [11/50], Loss: 4.3574\n",
      "Epoch [21/50], Loss: 0.8585\n",
      "Epoch [31/50], Loss: 0.2843\n",
      "Epoch [41/50], Loss: 0.1900\n"
     ]
    },
    {
     "data": {
      "image/png": "[encoded data removed]",
      "text/plain": [
       "<Figure size 432x288 with 1 Axes>"
      ]
     },
     "metadata": {
      "needs_background": "light"
     },
     "output_type": "display_data"
    }
   ],
   "source": [
    "# Training and visualizing predictions made by linear regression model\n",
    "optimizer = torch.optim.SGD(model.parameters(), lr=1e-3)\n",
    "\n",
    "train(features=x_train,\n",
    "      labels=y_train,\n",
    "      model=model,\n",
    "      lossfunc=mselossfunc, \n",
    "      optimizer=optimizer,\n",
    "      num_epoch=50)\n",
    "visualize(x_train, y_train, model)"
   ]
  },
  {
   "cell_type": "markdown",
   "metadata": {},
   "source": [
    "## Linear Regression (using nn package)"
   ]
  },
  {
   "cell_type": "code",
   "execution_count": 38,
   "metadata": {},
   "outputs": [
    {
     "name": "stdout",
     "output_type": "stream",
     "text": [
      "Epoch [1/100], Loss: 11.8330\n",
      "Epoch [11/100], Loss: 2.2943\n",
      "Epoch [21/100], Loss: 0.7277\n",
      "Epoch [31/100], Loss: 0.4695\n",
      "Epoch [41/100], Loss: 0.4261\n",
      "Epoch [51/100], Loss: 0.4179\n",
      "Epoch [61/100], Loss: 0.4155\n",
      "Epoch [71/100], Loss: 0.4140\n",
      "Epoch [81/100], Loss: 0.4127\n",
      "Epoch [91/100], Loss: 0.4115\n"
     ]
    },
    {
     "data": {
      "image/png": "[encoded data removed]",
      "text/plain": [
       "<Figure size 432x288 with 1 Axes>"
      ]
     },
     "metadata": {
      "needs_background": "light"
     },
     "output_type": "display_data"
    }
   ],
   "source": [
    "class NNLinearRegression(nn.Module):\n",
    "    def __init__(self):\n",
    "        super(NNLinearRegression, self).__init__()\n",
    "        self.linear = torch.nn.Linear(1,1)\n",
    "    \n",
    "    def forward(self, x):\n",
    "        \n",
    "        return self.linear(x)\n",
    "    \n",
    "# Training and visualizing predictions made by linear regression model (nn package)\n",
    "# TODO: use loss function from nn package\n",
    "lossfunc = torch.nn.MSELoss()\n",
    "\n",
    "model = NNLinearRegression()\n",
    "\n",
    "optimizer = torch.optim.SGD(model.parameters(), lr=1e-3)\n",
    "\n",
    "train(features=x_train,\n",
    "      labels=y_train,\n",
    "      model=model,\n",
    "      lossfunc=lossfunc,\n",
    "      optimizer=optimizer,\n",
    "      num_epoch=100)\n",
    "visualize(x_train, y_train, model)"
   ]
  },
  {
   "cell_type": "markdown",
   "metadata": {},
   "source": [
    "## MLP"
   ]
  },
  {
   "cell_type": "code",
   "execution_count": 65,
   "metadata": {},
   "outputs": [
    {
     "name": "stdout",
     "output_type": "stream",
     "text": [
      "Epoch [1/300], Loss: 4.0390\n",
      "Epoch [11/300], Loss: 0.5932\n",
      "Epoch [21/300], Loss: 0.5508\n",
      "Epoch [31/300], Loss: 0.5470\n",
      "Epoch [41/300], Loss: 0.5437\n",
      "Epoch [51/300], Loss: 0.5402\n",
      "Epoch [61/300], Loss: 0.5364\n",
      "Epoch [71/300], Loss: 0.5322\n",
      "Epoch [81/300], Loss: 0.5276\n",
      "Epoch [91/300], Loss: 0.5226\n",
      "Epoch [101/300], Loss: 0.5174\n",
      "Epoch [111/300], Loss: 0.5122\n",
      "Epoch [121/300], Loss: 0.5068\n",
      "Epoch [131/300], Loss: 0.5013\n",
      "Epoch [141/300], Loss: 0.4954\n",
      "Epoch [151/300], Loss: 0.4892\n",
      "Epoch [161/300], Loss: 0.4826\n",
      "Epoch [171/300], Loss: 0.4755\n",
      "Epoch [181/300], Loss: 0.4680\n",
      "Epoch [191/300], Loss: 0.4598\n",
      "Epoch [201/300], Loss: 0.4511\n",
      "Epoch [211/300], Loss: 0.4417\n",
      "Epoch [221/300], Loss: 0.4316\n",
      "Epoch [231/300], Loss: 0.4208\n",
      "Epoch [241/300], Loss: 0.4094\n",
      "Epoch [251/300], Loss: 0.3972\n",
      "Epoch [261/300], Loss: 0.3844\n",
      "Epoch [271/300], Loss: 0.3711\n",
      "Epoch [281/300], Loss: 0.3573\n",
      "Epoch [291/300], Loss: 0.3432\n"
     ]
    },
    {
     "data": {
      "image/png": "[encoded data removed]",
      "text/plain": [
       "<Figure size 432x288 with 1 Axes>"
      ]
     },
     "metadata": {
      "needs_background": "light"
     },
     "output_type": "display_data"
    }
   ],
   "source": [
    "class MLP(nn.Module):\n",
    "    def __init__(self, hidden_size):\n",
    "        super(MLP, self).__init__()\n",
    "        self.linear1 = torch.nn.Linear(1, hidden_size)\n",
    "        self.linear2 = torch.nn.Linear(hidden_size,1)\n",
    "    \n",
    "    def forward(self, x):\n",
    "        y = self.linear1(x)\n",
    "        y = torch.sigmoid(y)\n",
    "        y = self.linear2(y)\n",
    "        return y\n",
    "    \n",
    "hidden_size = 2\n",
    "learning_rate = 1e-1\n",
    "\n",
    "model = MLP(hidden_size=hidden_size)\n",
    "\n",
    "optimizer = torch.optim.SGD(model.parameters(), lr=learning_rate)\n",
    "\n",
    "train(features=x_train,\n",
    "      labels=y_train,\n",
    "      model=model,\n",
    "      lossfunc=lossfunc,\n",
    "      optimizer=optimizer,\n",
    "      num_epoch=300)\n",
    "visualize(x_train, y_train, model)"
   ]
  },
  {
   "cell_type": "code",
   "execution_count": null,
   "metadata": {},
   "outputs": [],
   "source": []
  }
 ],
 "metadata": {
  "kernelspec": {
   "display_name": "Python 3",
   "language": "python",
   "name": "python3"
  },
  "language_info": {
   "codemirror_mode": {
    "name": "ipython",
    "version": 3
   },
   "file_extension": ".py",
   "mimetype": "text/x-python",
   "name": "python",
   "nbconvert_exporter": "python",
   "pygments_lexer": "ipython3",
   "version": "3.7.4"
  }
 },
 "nbformat": 4,
 "nbformat_minor": 2
}
